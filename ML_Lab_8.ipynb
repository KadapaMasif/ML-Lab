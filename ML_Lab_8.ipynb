{
  "nbformat": 4,
  "nbformat_minor": 0,
  "metadata": {
    "colab": {
      "provenance": []
    },
    "kernelspec": {
      "name": "python3",
      "display_name": "Python 3"
    },
    "language_info": {
      "name": "python"
    }
  },
  "cells": [
    {
      "cell_type": "markdown",
      "source": [
        "**1) Take two 3D coordinates from the user. Find out the distance between these points using following distance functions. x and y are vectors representing the coordinates of two points.\n",
        "Here, k=3**"
      ],
      "metadata": {
        "id": "3rVeaR1shoqA"
      }
    },
    {
      "cell_type": "code",
      "execution_count": 1,
      "metadata": {
        "colab": {
          "base_uri": "https://localhost:8080/"
        },
        "id": "jdlZk-fOhWwT",
        "outputId": "e6030665-b573-4809-9431-fea5979194ee"
      },
      "outputs": [
        {
          "output_type": "stream",
          "name": "stdout",
          "text": [
            "Enter the first 3D coordinate:\n",
            "Enter value for dimension 1: 1\n",
            "Enter value for dimension 2: 2\n",
            "Enter value for dimension 3: 2\n",
            "Enter the second 3D coordinate:\n",
            "Enter value for dimension 1: 1\n",
            "Enter value for dimension 2: 3\n",
            "Enter value for dimension 3: 4\n",
            "Euclidean Distance: 2.23606797749979\n",
            "Manhattan Distance: 3.0\n",
            "Minkowski Distance (p=2): 2.23606797749979\n"
          ]
        }
      ],
      "source": [
        "import numpy as np\n",
        "\n",
        "def euclidean_distance(x, y):\n",
        "    return np.sqrt(np.sum((x-y)**2))\n",
        "\n",
        "def manhattan_distance(x, y):\n",
        "    return np.sum(np.abs(x - y))\n",
        "\n",
        "def minkowski_distance(x, y, p):\n",
        "    return np.power(np.sum(np.power(np.abs(x - y), p)), 1/p)\n",
        "\n",
        "# Function to take input vectors\n",
        "def input_coordinates(dim):\n",
        "    vector = []\n",
        "    for i in range(dim):\n",
        "        value = float(input(f\"Enter value for dimension {i+1}: \"))\n",
        "        vector.append(value)\n",
        "    return np.array(vector)\n",
        "\n",
        "# Define the dimensionality of the vectors\n",
        "dim = 3\n",
        "\n",
        "# Take two 3D coordinates from the user\n",
        "print(\"Enter the first 3D coordinate:\")\n",
        "x = input_coordinates(dim)\n",
        "print(\"Enter the second 3D coordinate:\")\n",
        "y = input_coordinates(dim)\n",
        "\n",
        "\n",
        "# Calculate distances\n",
        "euclidean_dist = euclidean_distance(x, y)\n",
        "manhattan_dist = manhattan_distance(x, y)\n",
        "minkowski_dist = minkowski_distance(x, y, 2)\n",
        "\n",
        "print(f\"Euclidean Distance: {euclidean_dist}\")\n",
        "print(f\"Manhattan Distance: {manhattan_dist}\")\n",
        "print(f\"Minkowski Distance (p=2): {minkowski_dist}\")\n"
      ]
    },
    {
      "cell_type": "markdown",
      "source": [
        "**2) Import the Iris dataset. Write a program to obtain the Euclidian Distance Matrix for\n",
        "all the data samples in the feature space. Distance metric is a 2D array, where the\n",
        "(i,j)th entry represents the distance between the ith and jth sample points in the feature\n",
        "space.**"
      ],
      "metadata": {
        "id": "ukGdWkhph2K_"
      }
    },
    {
      "cell_type": "code",
      "source": [
        "from sklearn.datasets import load_iris\n",
        "import numpy as np\n",
        "\n",
        "iris = load_iris()\n",
        "X = iris.data\n",
        "\n",
        "# Function to calculate Euclidean distance between two points\n",
        "def euclidean_distance(x, y):\n",
        "    return np.sqrt(np.sum((x - y) ** 2))\n",
        "\n",
        "# Function to calculate Euclidean Distance Matrix\n",
        "def euclidean_distance_matrix(X):\n",
        "    n_samples = len(X)\n",
        "    distance_matrix = np.zeros((n_samples, n_samples))\n",
        "\n",
        "    for i in range(n_samples):\n",
        "        for j in range(n_samples):\n",
        "            distance_matrix[i, j] = euclidean_distance(X[i], X[j])\n",
        "\n",
        "    return distance_matrix\n",
        "\n",
        "distance_metric = euclidean_distance_matrix(X)\n",
        "\n",
        "print(\"Euclidean Distance Matrix:\")\n",
        "print(distance_metric)\n"
      ],
      "metadata": {
        "colab": {
          "base_uri": "https://localhost:8080/"
        },
        "id": "6LTfQQ8Phdmc",
        "outputId": "ca7297df-d526-4bf8-ba3f-6e57439588f8"
      },
      "execution_count": 2,
      "outputs": [
        {
          "output_type": "stream",
          "name": "stdout",
          "text": [
            "Euclidean Distance Matrix:\n",
            "[[0.         0.53851648 0.50990195 ... 4.45982062 4.65080638 4.14004831]\n",
            " [0.53851648 0.         0.3        ... 4.49888875 4.71805044 4.15331193]\n",
            " [0.50990195 0.3        0.         ... 4.66154481 4.84871117 4.29883705]\n",
            " ...\n",
            " [4.45982062 4.49888875 4.66154481 ... 0.         0.6164414  0.64031242]\n",
            " [4.65080638 4.71805044 4.84871117 ... 0.6164414  0.         0.76811457]\n",
            " [4.14004831 4.15331193 4.29883705 ... 0.64031242 0.76811457 0.        ]]\n"
          ]
        }
      ]
    },
    {
      "cell_type": "markdown",
      "source": [
        "**3) Import the Iris dataset. Prepare a dataset considering samples belong to any two\n",
        "output classes. Draw the scatter plot for all the samples in the new dataset considering\n",
        "any two input attributes. Examine the scatter plot to find the equation of a line that\n",
        "can separate sample of two classes.**"
      ],
      "metadata": {
        "id": "OOOOc9xfktdR"
      }
    },
    {
      "cell_type": "code",
      "source": [
        "import numpy as np\n",
        "import pandas as pd\n",
        "import matplotlib.pyplot as plt\n",
        "from sklearn.datasets import load_iris\n",
        "from sklearn.linear_model import LinearRegression\n",
        "\n",
        "# Load Iris dataset\n",
        "iris = load_iris()\n",
        "iris_df = pd.DataFrame(data= np.c_[iris['data'], iris['target']],\n",
        "                     columns= iris['feature_names'] + ['target'])\n",
        "\n",
        "# Map target classes to their respective names\n",
        "iris_df['species'] = iris_df['target'].map({0: 'setosa', 1: 'versicolor', 2: 'virginica'})\n",
        "\n",
        "# Choose two classes\n",
        "class1 = 'setosa'\n",
        "class2 = 'versicolor'\n",
        "\n",
        "# Prepare dataset with samples from the chosen classes\n",
        "subset_df = iris_df[(iris_df['species'] == class1) | (iris_df['species'] == class2)]\n",
        "\n",
        "# Choose two input attributes for scatter plot\n",
        "x_attribute = 'sepal length (cm)'\n",
        "y_attribute = 'sepal width (cm)'\n",
        "\n",
        "# Scatter plot\n",
        "plt.figure(figsize=(10, 6))\n",
        "plt.scatter(subset_df[subset_df['species'] == class1][x_attribute],\n",
        "            subset_df[subset_df['species'] == class1][y_attribute],\n",
        "            color='blue', label=class1)\n",
        "plt.scatter(subset_df[subset_df['species'] == class2][x_attribute],\n",
        "            subset_df[subset_df['species'] == class2][y_attribute],\n",
        "            color='red', label=class2)\n",
        "plt.xlabel(x_attribute)\n",
        "plt.ylabel(y_attribute)\n",
        "plt.title(f'Scatter Plot of {x_attribute} vs {y_attribute}')\n",
        "plt.legend()\n",
        "plt.grid(True)\n",
        "plt.show()\n",
        "\n",
        "# Extracting data for linear regression\n",
        "X = subset_df[[x_attribute, y_attribute]].values\n",
        "y = subset_df['species'].map({class1: 0, class2: 1}).values\n",
        "\n",
        "# Perform linear regression\n",
        "model = LinearRegression()\n",
        "model.fit(X, y)\n",
        "\n",
        "# Coefficients of the line (slope and intercept)\n",
        "slope = model.coef_[0]\n",
        "intercept = model.intercept_\n",
        "\n",
        "# Print the equation of the line\n",
        "print(f\"The equation of the line separating {class1} and {class2} classes is: \")\n",
        "print(f\"{y_attribute} = {slope:.2f}*{x_attribute} + {intercept:.2f}\")"
      ],
      "metadata": {
        "colab": {
          "base_uri": "https://localhost:8080/",
          "height": 599
        },
        "id": "3WASlHfbiEl2",
        "outputId": "ec46f666-3cb6-4429-a1cb-b8554197c7f1"
      },
      "execution_count": 14,
      "outputs": [
        {
          "output_type": "display_data",
          "data": {
            "text/plain": [
              "<Figure size 1000x600 with 1 Axes>"
            ],
            "image/png": "[encoded data removed]"
          },
          "metadata": {}
        },
        {
          "output_type": "stream",
          "name": "stdout",
          "text": [
            "The equation of the line separating setosa and versicolor classes is: \n",
            "sepal width (cm) = 0.48*sepal length (cm) + -0.29\n"
          ]
        }
      ]
    },
    {
      "cell_type": "code",
      "source": [
        "\n"
      ],
      "metadata": {
        "id": "dCjCZmTyiuHm"
      },
      "execution_count": null,
      "outputs": []
    }
  ]
}