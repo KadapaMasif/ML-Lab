{
  "nbformat": 4,
  "nbformat_minor": 0,
  "metadata": {
    "colab": {
      "provenance": []
    },
    "kernelspec": {
      "name": "python3",
      "display_name": "Python 3"
    },
    "language_info": {
      "name": "python"
    }
  },
  "cells": [
    {
      "cell_type": "markdown",
      "source": [
        "**1) Implement Naïve Bayes classifier for following datasets and evaluate the classification\n",
        "performance. Draw the confusion matrix, compute accuracy, error and other measures as\n",
        "applicable.\n",
        "a. The enjoy sports dataset as. given below**"
      ],
      "metadata": {
        "id": "eo6sXz74em6C"
      }
    },
    {
      "cell_type": "code",
      "execution_count": 8,
      "metadata": {
        "colab": {
          "base_uri": "https://localhost:8080/"
        },
        "id": "uw3muVf6cFV_",
        "outputId": "480d42b3-f7c6-4c9b-f7a0-e705bc1c679d"
      },
      "outputs": [
        {
          "output_type": "stream",
          "name": "stdout",
          "text": [
            "Accuracy: 0.0\n",
            "Confusion Matrix:\n",
            "[[0 3 0]\n",
            " [0 0 0]\n",
            " [0 1 0]]\n",
            "Error Rate: 1.0\n"
          ]
        }
      ],
      "source": [
        "import numpy as np\n",
        "import pandas as pd\n",
        "from collections import defaultdict\n",
        "from sklearn.model_selection import train_test_split\n",
        "from sklearn.metrics import accuracy_score, confusion_matrix\n",
        "\n",
        "class NaiveBayes:\n",
        "    def __init__(self):\n",
        "        self.class_probs = defaultdict(float)\n",
        "        self.class_feature_probs = defaultdict(lambda: defaultdict(float))\n",
        "\n",
        "    def fit(self, X, y):\n",
        "        num_samples = len(y)\n",
        "        unique_classes = np.unique(y)\n",
        "\n",
        "        for c in unique_classes:\n",
        "            self.class_probs[c] = np.sum(y == c) / num_samples\n",
        "\n",
        "        for c in unique_classes:\n",
        "            X_c = X[y == c]\n",
        "            num_samples_c = len(X_c)\n",
        "\n",
        "            for feature in range(X.shape[1]):\n",
        "                unique_feature_values = np.unique(X[:, feature])\n",
        "\n",
        "                for value in unique_feature_values:\n",
        "                    count_feature_given_class = np.sum(X_c[:, feature] == value)\n",
        "                    self.class_feature_probs[c][value, feature] = count_feature_given_class / num_samples_c\n",
        "\n",
        "    def predict(self, X):\n",
        "        predictions = []\n",
        "\n",
        "        for sample in X:\n",
        "            max_prob = -1\n",
        "            predicted_class = None\n",
        "\n",
        "            for c, class_prob in self.class_probs.items():\n",
        "                feature_probs = np.array([self.class_feature_probs[c][sample[feature], feature]\n",
        "                                          for feature in range(len(sample))])\n",
        "                prob = np.prod(feature_probs) * class_prob\n",
        "\n",
        "                if prob > max_prob:\n",
        "                    max_prob = prob\n",
        "                    predicted_class = c\n",
        "\n",
        "            predictions.append(predicted_class)\n",
        "\n",
        "        return predictions\n",
        "\n",
        "df = pd.read_csv(\"weatherdata.csv\")\n",
        "\n",
        "X = df.drop(['Answer'], axis=1).values\n",
        "y = df['Answer'].values\n",
        "\n",
        "X_train, X_test, y_train, y_test = train_test_split(X, y, test_size=0.2, random_state=42)\n",
        "\n",
        "nb = NaiveBayes()\n",
        "nb.fit(X_train, y_train)\n",
        "\n",
        "predictions = nb.predict(X_test)\n",
        "\n",
        "accuracy = accuracy_score(y_test, predictions)\n",
        "print(\"Accuracy:\", accuracy)\n",
        "\n",
        "conf_matrix = confusion_matrix(y_test, predictions)\n",
        "print(\"Confusion Matrix:\")\n",
        "print(conf_matrix)\n",
        "\n",
        "error_rate = 1 - accuracy\n",
        "print(\"Error Rate:\", error_rate)\n"
      ]
    },
    {
      "cell_type": "markdown",
      "source": [
        "**2) Implement Naïve Bayes classifier for following datasets and evaluate the classification performance. Draw the confusion matrix, compute accuracy, error and other measures as applicable.b. The Iris dataset**"
      ],
      "metadata": {
        "id": "-5VRMZjN2bd1"
      }
    },
    {
      "cell_type": "code",
      "source": [
        "import numpy as np\n",
        "from collections import defaultdict\n",
        "from sklearn.datasets import load_iris\n",
        "from sklearn.model_selection import train_test_split\n",
        "from sklearn.metrics import accuracy_score\n",
        "from sklearn.metrics import confusion_matrix\n",
        "\n",
        "class NaiveBayes:\n",
        "    def __init__(self):\n",
        "        self.class_probs = defaultdict(float)\n",
        "        self.class_feature_probs = defaultdict(lambda: defaultdict(float))\n",
        "\n",
        "    def fit(self, X, y):\n",
        "        num_samples = len(y)\n",
        "        unique_classes = np.unique(y)\n",
        "\n",
        "        # Calculate class probabilities\n",
        "        for c in unique_classes:\n",
        "            self.class_probs[c] = np.sum(y == c) / num_samples\n",
        "\n",
        "        for c in unique_classes:\n",
        "            X_c = X[y == c]\n",
        "            num_samples_c = len(X_c)\n",
        "\n",
        "            for feature in range(X.shape[1]):\n",
        "                unique_feature_values = np.unique(X[:, feature])\n",
        "\n",
        "                for value in unique_feature_values:\n",
        "                    count_feature_given_class = np.sum(X_c[:, feature] == value)\n",
        "                    self.class_feature_probs[c][value, feature] = count_feature_given_class / num_samples_c\n",
        "\n",
        "    def predict(self, X):\n",
        "        predictions = []\n",
        "\n",
        "        for sample in X:\n",
        "            max_prob = -1\n",
        "            predicted_class = None\n",
        "\n",
        "            for c, class_prob in self.class_probs.items():\n",
        "                feature_probs = np.array([self.class_feature_probs[c][sample[feature], feature]\n",
        "                                          for feature in range(len(sample))])\n",
        "                prob = np.prod(feature_probs) * class_prob\n",
        "\n",
        "                if prob > max_prob:\n",
        "                    max_prob = prob\n",
        "                    predicted_class = c\n",
        "\n",
        "            predictions.append(predicted_class)\n",
        "\n",
        "        return predictions\n",
        "\n",
        "iris = load_iris()\n",
        "X = iris.data\n",
        "y = iris.target\n",
        "\n",
        "X_train, X_test, y_train, y_test = train_test_split(X, y, test_size=0.2, random_state=42)\n",
        "\n",
        "nb = NaiveBayes()\n",
        "nb.fit(X_train, y_train)\n",
        "\n",
        "predictions = nb.predict(X_test)\n",
        "\n",
        "accuracy = accuracy_score(y_test, predictions)\n",
        "print(\"Accuracy:\", accuracy)\n",
        "\n",
        "predictions = nb.predict(X_test)\n",
        "\n",
        "conf_matrix = confusion_matrix(y_test, predictions)\n",
        "print(\"Confusion Matrix:\")\n",
        "print(conf_matrix)\n",
        "\n",
        "error_rate = 1 - accuracy\n",
        "print(\"Error Rate:\", error_rate)\n"
      ],
      "metadata": {
        "colab": {
          "base_uri": "https://localhost:8080/"
        },
        "id": "WWvsZ6Jsyztk",
        "outputId": "fd736390-6edb-49ba-99fa-eb0de90d155f"
      },
      "execution_count": 10,
      "outputs": [
        {
          "output_type": "stream",
          "name": "stdout",
          "text": [
            "Accuracy: 0.8333333333333334\n",
            "Confusion Matrix:\n",
            "[[10  0  0]\n",
            " [ 2  6  1]\n",
            " [ 2  0  9]]\n",
            "Error Rate: 0.16666666666666663\n"
          ]
        }
      ]
    },
    {
      "cell_type": "code",
      "source": [],
      "metadata": {
        "id": "daZP0UZmzsZU"
      },
      "execution_count": null,
      "outputs": []
    }
  ]
}